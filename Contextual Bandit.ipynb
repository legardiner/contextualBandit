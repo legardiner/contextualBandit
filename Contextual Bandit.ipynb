{
 "cells": [
  {
   "cell_type": "markdown",
   "metadata": {},
   "source": [
    "# Set up"
   ]
  },
  {
   "cell_type": "code",
   "execution_count": 118,
   "metadata": {},
   "outputs": [],
   "source": [
    "import numpy as np\n",
    "import tensorflow as tf\n",
    "from numpy.linalg import inv\n",
    "import random\n",
    "import pandas as pd\n",
    "import matplotlib.pyplot as plt\n",
    "\n",
    "%matplotlib inline"
   ]
  },
  {
   "cell_type": "code",
   "execution_count": 3,
   "metadata": {},
   "outputs": [],
   "source": [
    "def sample_jester_data(file_name, context_dim = 32, num_actions = 8, num_contexts = 19181,\n",
    "                       shuffle_rows=True, shuffle_cols=False):\n",
    "        \"\"\"Samples bandit game from (user, joke) dense subset of Jester dataset.\n",
    "        \n",
    "        Args:\n",
    "            file_name: Route of file containing the modified Jester dataset.\n",
    "            context_dim: Context dimension (i.e. vector with some ratings from a user).\n",
    "            num_actions: Number of actions (number of joke ratings to predict).\n",
    "            num_contexts: Number of contexts to sample.\n",
    "            shuffle_rows: If True, rows from original dataset are shuffled.\n",
    "            shuffle_cols: Whether or not context/action jokes are randomly shuffled.\n",
    "            \n",
    "        Returns:\n",
    "            dataset: Sampled matrix with rows: (context, rating_1, ..., rating_k).\n",
    "            opt_vals: Vector of deterministic optimal (reward, action) for each context.\n",
    "        \"\"\"\n",
    "        np.random.seed(0)\n",
    "        with tf.gfile.Open(file_name, 'rb') as f:\n",
    "            dataset = np.load(f)\n",
    "            \n",
    "        if shuffle_cols:\n",
    "            dataset = dataset[:, np.random.permutation(dataset.shape[1])]\n",
    "        if shuffle_rows:\n",
    "            np.random.shuffle(dataset)\n",
    "        dataset = dataset[:num_contexts, :]\n",
    "            \n",
    "        assert context_dim + num_actions == dataset.shape[1], 'Wrong data dimensions.'\n",
    "        \n",
    "        opt_actions = np.argmax(dataset[:, context_dim:], axis=1)\n",
    "        opt_rewards = np.array([dataset[i, context_dim + a] for i, a in enumerate(opt_actions)])\n",
    "        \n",
    "        return dataset, opt_rewards, opt_actions"
   ]
  },
  {
   "cell_type": "code",
   "execution_count": 110,
   "metadata": {},
   "outputs": [],
   "source": [
    "def choose_arm(decay_rate, decay_step, predictions):\n",
    "    \"\"\"\n",
    "    This function will choose an action from state s by using epsilon greedy\n",
    "    It has an exponential decay rate to decrease the likelihood of the\n",
    "    exploring vs exploiting over time\n",
    "    \n",
    "    Args:\n",
    "        decay_rate (float): Exponential decay rate for epsilon greedy\n",
    "        decay_step (int): Trial number within contextual bandit\n",
    "        predictions (np.ndarray): Predicted reward/payoff for pulling each arm\n",
    "        \n",
    "    Returns:\n",
    "        arm_selection (int): Index of arm to pull\n",
    "    \"\"\"\n",
    "    explore_start = 1.0\n",
    "    explore_stop = 0.01\n",
    "    explore_exploit_tradeoff = np.random.rand()\n",
    "    explore_probability = explore_stop + (explore_start - explore_stop) \\\n",
    "        * np.exp(-decay_rate * decay_step)\n",
    "\n",
    "    if (explore_probability > explore_exploit_tradeoff):\n",
    "        # Select a random arm (exploration)\n",
    "        arm_selection = random.choice(range(len(predictions)))\n",
    "    else:\n",
    "        # Select from arms with the highest expected reward/payoff\n",
    "        max_arms = np.amax(predictions)\n",
    "        indices = np.nonzero(predictions == max_arms)[0]\n",
    "        arm_selection = random.choice(indices)\n",
    "\n",
    "    return arm_selection"
   ]
  },
  {
   "cell_type": "markdown",
   "metadata": {},
   "source": [
    "## Read in data"
   ]
  },
  {
   "cell_type": "code",
   "execution_count": 4,
   "metadata": {},
   "outputs": [],
   "source": [
    "dataset, opt_rewards, opt_actions = sample_jester_data('jester_data_40jokes_19181users.npy')"
   ]
  },
  {
   "cell_type": "markdown",
   "metadata": {},
   "source": [
    "## Set parameters"
   ]
  },
  {
   "cell_type": "code",
   "execution_count": 139,
   "metadata": {},
   "outputs": [],
   "source": [
    "alpha = 1.25\n",
    "context_cols = 32\n",
    "reward_cols = 8\n",
    "n_trials = 18000 \n",
    "arms = 8"
   ]
  },
  {
   "cell_type": "markdown",
   "metadata": {},
   "source": [
    "## Set seed for reproducability"
   ]
  },
  {
   "cell_type": "code",
   "execution_count": 140,
   "metadata": {},
   "outputs": [],
   "source": [
    "np.random.seed(333)"
   ]
  },
  {
   "cell_type": "markdown",
   "metadata": {},
   "source": [
    "## Initialize empty vectors for training\n",
    "\n",
    "Initialize for each arm a context_cols dimensional identity matrix, a zero_vector to store rewards, and a zero_vector to store theta"
   ]
  },
  {
   "cell_type": "code",
   "execution_count": 141,
   "metadata": {},
   "outputs": [],
   "source": [
    "A = np.zeros((arms, context_cols, context_cols)) \n",
    "reward = np.zeros((arms, context_cols))\n",
    "theta = np.zeros((arms, context_cols))\n",
    "\n",
    "for arm in range(arms):\n",
    "    A[arm] = np.identity(context_cols)"
   ]
  },
  {
   "cell_type": "markdown",
   "metadata": {},
   "source": [
    "# Train"
   ]
  },
  {
   "cell_type": "code",
   "execution_count": 156,
   "metadata": {},
   "outputs": [],
   "source": [
    "earned_rewards = []\n",
    "for trial in range(n_trials):\n",
    "    context = dataset[trial][:context_cols] \n",
    "    gt_rewards = dataset[trial][-reward_cols:]\n",
    "    predictions = []\n",
    "    for arm in range(arms):\n",
    "        A_inverse = inv(A[arm])\n",
    "        theta[arm] = np.matmul(A_inverse, reward[arm])\n",
    "        p_ta = np.matmul(theta[arm].transpose(), context) + alpha * np.sqrt(np.matmul(np.matmul(context.transpose(), A_inverse), context))\n",
    "        predictions.append(p_ta)\n",
    "    \n",
    "    arm_selection = choose_arm(0.001, trial, predictions)\n",
    "    A[arm_selection] = A[arm_selection] + np.matmul(context, context.transpose())\n",
    "    reward[arm_selection] = reward[arm_selection] + gt_rewards[arm_selection] * context\n",
    "    earned_rewards.append(gt_rewards[arm_selection])"
   ]
  },
  {
   "cell_type": "code",
   "execution_count": 157,
   "metadata": {},
   "outputs": [
    {
     "data": {
      "text/plain": [
       "Text(0.5,1,'Rolling Average Reward')"
      ]
     },
     "execution_count": 157,
     "metadata": {},
     "output_type": "execute_result"
    },
    {
     "data": {
      "image/png": "[encoded data removed]",
      "text/plain": [
       "<matplotlib.figure.Figure at 0x12404a5f8>"
      ]
     },
     "metadata": {},
     "output_type": "display_data"
    }
   ],
   "source": [
    "results = pd.DataFrame(earned_rewards)\n",
    "results.columns = ['Reward']\n",
    "results.rolling(1000).mean().plot()\n",
    "plt.title(\"Rolling Average Reward\")"
   ]
  },
  {
   "cell_type": "markdown",
   "metadata": {},
   "source": [
    "# Test"
   ]
  },
  {
   "cell_type": "code",
   "execution_count": 160,
   "metadata": {},
   "outputs": [],
   "source": [
    "test_regrets = []\n",
    "for trial in range(n_trials, len(dataset)):\n",
    "    context = dataset[trial][:context_cols] \n",
    "    gt_rewards = dataset[trial][-reward_cols:]\n",
    "    predictions = []\n",
    "    for arm in range(arms):\n",
    "        A_inverse = inv(A[arm])\n",
    "        theta[arm] = np.matmul(A_inverse, reward[arm])\n",
    "        p_ta = np.matmul(theta[arm].transpose(), context) + alpha * np.sqrt(np.matmul(np.matmul(context.transpose(), A_inverse), context))\n",
    "        predictions.append(p_ta)\n",
    "    # Use n_trials as step to encourage it to exploit\n",
    "    arm_selection = choose_arm(0.01, n_trials, predictions)\n",
    "    regret = np.max(gt_rewards) - gt_rewards[arm_selection]\n",
    "    test_regrets.append(regret)"
   ]
  },
  {
   "cell_type": "code",
   "execution_count": 162,
   "metadata": {},
   "outputs": [
    {
     "data": {
      "text/plain": [
       "Text(0.5,1,'Histogram of Test Regret')"
      ]
     },
     "execution_count": 162,
     "metadata": {},
     "output_type": "execute_result"
    },
    {
     "data": {
      "image/png": "[encoded data removed]",
      "text/plain": [
       "<matplotlib.figure.Figure at 0x1241435f8>"
      ]
     },
     "metadata": {},
     "output_type": "display_data"
    }
   ],
   "source": [
    "plt.hist(test_regrets)\n",
    "plt.title(\"Histogram of Test Regret\")"
   ]
  },
  {
   "cell_type": "code",
   "execution_count": null,
   "metadata": {},
   "outputs": [],
   "source": []
  }
 ],
 "metadata": {
  "kernelspec": {
   "display_name": "Python [default]",
   "language": "python",
   "name": "python3"
  },
  "language_info": {
   "codemirror_mode": {
    "name": "ipython",
    "version": 3
   },
   "file_extension": ".py",
   "mimetype": "text/x-python",
   "name": "python",
   "nbconvert_exporter": "python",
   "pygments_lexer": "ipython3",
   "version": "3.6.3"
  }
 },
 "nbformat": 4,
 "nbformat_minor": 2
}
